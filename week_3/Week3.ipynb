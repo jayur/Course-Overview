{
 "cells": [
  {
   "cell_type": "markdown",
   "metadata": {},
   "source": [
    "Assignment\n",
    "January 28, 2016\n",
    "Jayashree Raman\n",
    "Homeworks for this week can be written inside of an ipython notebook file. Questions can be labelled accordingly.\n",
    "3.1 If statements\n",
    "The mythical island nation of Laskoatu has a rather simple tax code. The first $1000 of income is taxed at 5\\%. The next $1000 is taxed at 10%. Any income beyond the first $2000 is taxed at 15\\%. Complete the following script so that it asks the user for his or her income and outputs the amount of tax owed."
   ]
  },
  {
   "cell_type": "code",
   "execution_count": 11,
   "metadata": {
    "collapsed": false
   },
   "outputs": [
    {
     "name": "stdout",
     "output_type": "stream",
     "text": [
      "Please enter your income:3000\n",
      "The income is $ 3000 . The tax on this is $ 300.0\n"
     ]
    }
   ],
   "source": [
    "income = int(input(\"Please enter your income:\"))\n",
    "if income > 2000:\n",
    "   tax_owed = 1000*0.05 + 1000*0.10 + (income - 2000)*0.15\n",
    "elif income > 1000:\n",
    "   tax_owed = 1000*0.05 + (income - 1000)*0.10\n",
    "else: tax_owed = income*0.05\n",
    "\n",
    "print(\"The income is $\", income, \". The tax on this is $\", tax_owed)\n"
   ]
  },
  {
   "cell_type": "markdown",
   "metadata": {},
   "source": [
    "3.2 Write a script that prompts the user for his or her name. Using a while loop that counts downwards, print the name with the letters reversed. You may use s.lower() and s.upper() to change a string s to lowercase and uppercase letters.\n",
    "Enter your name: Paul\n",
    "Luap\n",
    "If the name is the same forward and backwards, print “Palindrome!” on the next line.\n",
    "Enter your name: Ana\n",
    "Ana\n",
    "Palindrome!"
   ]
  },
  {
   "cell_type": "code",
   "execution_count": 42,
   "metadata": {
    "collapsed": false
   },
   "outputs": [
    {
     "name": "stdout",
     "output_type": "stream",
     "text": [
      "Please enter your name Paul\n",
      "Length  4  Initial position  0\n",
      "L\n",
      "u\n",
      "a\n",
      "p\n"
     ]
    }
   ],
   "source": [
    "yourname = input(\"Please enter your name \")\n",
    "namelen = len(yourname)\n",
    "position = 0\n",
    "palindrome = True\n",
    "print(\"Length \", namelen, \" Initial position \", position)\n",
    "while position < namelen:\n",
    "    if yourname[position].upper() != yourname[namelen-1 - position].upper():\n",
    "     palindrome = False\n",
    "   \n",
    "    if position == 0:\n",
    "     print(yourname[namelen-1 - position].upper())\n",
    "    else: \n",
    "      print(yourname[namelen-1 - position].lower())\n",
    "    position += 1\n",
    "if palindrome == True:\n",
    "    print(yourname)\n",
    "    print(\"Palindrome!\")"
   ]
  },
  {
   "cell_type": "markdown",
   "metadata": {},
   "source": [
    "3.3 Write a script that prompts the user for an integer tree size, then displays a number tree as shown below: Enter a size: 5\n",
    "    1\n",
    "   121\n",
    "  12321\n",
    " 1234321\n",
    "123454321"
   ]
  },
  {
   "cell_type": "code",
   "execution_count": 51,
   "metadata": {
    "collapsed": false
   },
   "outputs": [
    {
     "name": "stdout",
     "output_type": "stream",
     "text": [
      "Enter a size: 9\n",
      "         \n",
      "        1\n",
      "       121\n",
      "      12321\n",
      "     1234321\n",
      "    123454321\n",
      "   12345654321\n",
      "  1234567654321\n",
      " 123456787654321\n",
      "12345678987654321\n"
     ]
    }
   ],
   "source": [
    "n = int(input(\"Enter a size: \"))\n",
    "for i in range(0, n+1):\n",
    "    print(' '*int(n-i), end = \"\")\n",
    "    for j in range(1, i+1):\n",
    "        print(j, end = \"\")\n",
    "    for j in range(i, 1, -1):\n",
    "        print(j-1, end = \"\")\n",
    "    print(\"\")"
   ]
  },
  {
   "cell_type": "markdown",
   "metadata": {},
   "source": [
    "3.4 Fibonacci\n",
    "The Fibonacci numbers begin with 1, 1. After the first two numbers, each number is the sum of the previous two. 1+1=2,so2isthethirdnumber. Then1+2=3,so3isthenextone,andsoon. Writeascript that prompts the user for a number, then prints all the Fibonacci numbers that are less than or equal to the input, in order.\n",
    "Enter a number: 15\n",
    "1 1 2 3 5 8 13"
   ]
  },
  {
   "cell_type": "code",
   "execution_count": 53,
   "metadata": {
    "collapsed": false
   },
   "outputs": [
    {
     "ename": "SyntaxError",
     "evalue": "invalid syntax (<ipython-input-53-b994b13234f9>, line 4)",
     "output_type": "error",
     "traceback": [
      "\u001b[0;36m  File \u001b[0;32m\"<ipython-input-53-b994b13234f9>\"\u001b[0;36m, line \u001b[0;32m4\u001b[0m\n\u001b[0;31m    for fib2 < n:\u001b[0m\n\u001b[0m             ^\u001b[0m\n\u001b[0;31mSyntaxError\u001b[0m\u001b[0;31m:\u001b[0m invalid syntax\n"
     ]
    }
   ],
   "source": [
    "n = int(input(\"Enter a number: \"))\n",
    "fib1 = 1\n",
    "fib2 = 1\n",
    "for fib2 < n:\n",
    "    print(fib1, end = \" \")\n",
    "    fib2 = fib1\n",
    "    fib2 = fib1 + fib2"
   ]
  },
  {
   "cell_type": "code",
   "execution_count": null,
   "metadata": {
    "collapsed": true
   },
   "outputs": [],
   "source": []
  }
 ],
 "metadata": {
  "anaconda-cloud": {},
  "kernelspec": {
   "display_name": "Python [Root]",
   "language": "python",
   "name": "Python [Root]"
  },
  "language_info": {
   "codemirror_mode": {
    "name": "ipython",
    "version": 3
   },
   "file_extension": ".py",
   "mimetype": "text/x-python",
   "name": "python",
   "nbconvert_exporter": "python",
   "pygments_lexer": "ipython3",
   "version": "3.5.2"
  }
 },
 "nbformat": 4,
 "nbformat_minor": 0
}
